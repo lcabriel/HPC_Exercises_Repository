{
 "cells": [
  {
   "cell_type": "markdown",
   "id": "a64a886e-54de-4845-b676-4dfba4e794bf",
   "metadata": {},
   "source": [
    "## Times Analysis\n",
    "\n",
    "In this notebook, I will elaborate and confront the times data obtained from testing our custom algorithm for the broadcast with the original algorithm used by OpenMPI. This data are obtained to confront the strong scalability of the two algorithms for a number of processes that goes from 4 to 64. Therefore, I have fixed the size of the problem: an array of 5 integers to pass. I will consider the times also for the processes on the same node or split between two nodes. "
   ]
  },
  {
   "cell_type": "code",
   "execution_count": 1,
   "id": "335b574c-9043-4af9-bf0b-50189369a992",
   "metadata": {},
   "outputs": [],
   "source": [
    "#We will use Numpy to handle the arrays of data, pandas to extract the data from the files and matplotlib to plot the results.\n",
    "import numpy as np\n",
    "import pandas as pd\n",
    "import matplotlib.pyplot as plt"
   ]
  },
  {
   "cell_type": "markdown",
   "id": "60e38aaa-989d-47fb-9539-a35a8edbb2d2",
   "metadata": {},
   "source": [
    "### SAME NODE TIMES"
   ]
  },
  {
   "cell_type": "code",
   "execution_count": 2,
   "id": "cd47ebe1-8ba5-40ac-b972-8d3b68ca90d9",
   "metadata": {},
   "outputs": [],
   "source": [
    "#First I've already set the name. If you exec this notebook in the repo this should work.\n",
    "customs_names = [ #File names of the times for the custom algorithm\n",
    "    \"samenode_times/bcustom_times_4.txt\",\n",
    "    \"samenode_times/bcustom_times_8.txt\",\n",
    "    \"samenode_times/bcustom_times_16.txt\",\n",
    "    \"samenode_times/bcustom_times_32.txt\",\n",
    "    \"samenode_times/bcustom_times_64.txt\"\n",
    "]\n",
    "\n",
    "native_names = [ #File names of the times for the original algorithm\n",
    "    \"samenode_times/bnative_times_4.txt\",\n",
    "    \"samenode_times/bnative_times_8.txt\",\n",
    "    \"samenode_times/bnative_times_16.txt\",\n",
    "    \"samenode_times/bnative_times_32.txt\",\n",
    "    \"samenode_times/bnative_times_64.txt\"\n",
    "]"
   ]
  },
  {
   "cell_type": "markdown",
   "id": "771cf451-6e0e-43f8-ac2b-419191576b29",
   "metadata": {},
   "source": [
    "I have for each file a total of 200 tests, so I want to find the mean computational time and the std for each one of the files. Let's start with the ones of the custom algorithm"
   ]
  },
  {
   "cell_type": "code",
   "execution_count": 3,
   "id": "a0db8fe6-7325-46e0-9cf8-73178082c638",
   "metadata": {},
   "outputs": [],
   "source": [
    "custom_stats = np.zeros((len(customs_names),2),dtype=float) #array for the means and stds of each file\n",
    "\n",
    "for i in range(len(custom_stats)):\n",
    "    #Import the associated data and compute\n",
    "    file = pd.read_table(customs_names[i],delimiter=\" \",header=None)\n",
    "    file = file.to_numpy()[:,0]\n",
    "    \n",
    "    custom_stats[i,0]=np.mean(file)\n",
    "    custom_stats[i,1]=np.std(file)"
   ]
  },
  {
   "cell_type": "code",
   "execution_count": 4,
   "id": "199989c0-5823-4469-a212-923376a53cff",
   "metadata": {},
   "outputs": [
    {
     "name": "stdout",
     "output_type": "stream",
     "text": [
      "[[0.00084046 0.00333167]\n",
      " [0.0038764  0.00635264]\n",
      " [0.00649282 0.00828161]\n",
      " [0.00907455 0.00901626]\n",
      " [0.0133773  0.00919878]]\n"
     ]
    }
   ],
   "source": [
    "print(custom_stats)"
   ]
  },
  {
   "cell_type": "markdown",
   "id": "ea7763d6-8166-4843-8915-12e3d236f4bb",
   "metadata": {},
   "source": [
    "Already from this print, one can observe that the mean value increase with a bigger number of processes as expected. Let's do the same for the original algorithm"
   ]
  },
  {
   "cell_type": "code",
   "execution_count": 5,
   "id": "cec1bf02-e506-48ce-8c35-896623736053",
   "metadata": {},
   "outputs": [],
   "source": [
    "native_stats = np.zeros((len(native_names),2),dtype=float)\n",
    "\n",
    "for i in range(len(native_stats)):\n",
    "    file = pd.read_table(native_names[i],delimiter=\" \",header=None)\n",
    "    file = file.to_numpy()[:,0]\n",
    "    \n",
    "    native_stats[i,0]=np.mean(file)\n",
    "    native_stats[i,1]=np.std(file)"
   ]
  },
  {
   "cell_type": "code",
   "execution_count": 6,
   "id": "61e6a09f-dc1a-4d6e-80fb-fb5665340399",
   "metadata": {},
   "outputs": [
    {
     "name": "stdout",
     "output_type": "stream",
     "text": [
      "[[0.000616   0.0022893 ]\n",
      " [0.00215564 0.0054228 ]\n",
      " [0.00208517 0.00470616]\n",
      " [0.00291378 0.00648669]\n",
      " [0.00146622 0.00410683]]\n"
     ]
    }
   ],
   "source": [
    "print(native_stats)"
   ]
  },
  {
   "cell_type": "markdown",
   "id": "30f61d05-8421-47ac-8807-1bbc8f1c1c2f",
   "metadata": {},
   "source": [
    "Looking to the mean, it is already observable that the mean value is lower, especially for a bigger number of cores, than the mean value for the custom algorithm. The std seems comparable"
   ]
  },
  {
   "cell_type": "code",
   "execution_count": 7,
   "id": "c15e2c9b-50e4-41bb-b5cb-e754148487f3",
   "metadata": {},
   "outputs": [
    {
     "name": "stdout",
     "output_type": "stream",
     "text": [
      "[ 4  8 16 32 64]\n"
     ]
    }
   ],
   "source": [
    "#Prepare the \"x\" for the plot a.k.a. the number of cores\n",
    "cores = np.array([4,8,16,32,64],dtype=int)\n",
    "print(cores)"
   ]
  },
  {
   "cell_type": "code",
   "execution_count": 8,
   "id": "ba464ab9-23c4-4477-b6cd-f06015dde705",
   "metadata": {},
   "outputs": [
    {
     "data": {
      "text/plain": [
       "<ErrorbarContainer object of 3 artists>"
      ]
     },
     "execution_count": 8,
     "metadata": {},
     "output_type": "execute_result"
    },
    {
     "data": {
      "image/png": "[encoded data removed]",
      "text/plain": [
       "<Figure size 720x504 with 1 Axes>"
      ]
     },
     "metadata": {
      "needs_background": "light"
     },
     "output_type": "display_data"
    }
   ],
   "source": [
    "#And now let's plot\n",
    "plt.figure(figsize=(10,7))\n",
    "plt.title(\"Plots with errors for cores on the same node\")\n",
    "plt.xlabel(\"nr. of cores\")\n",
    "plt.ylabel(\"exec. time [s]\")\n",
    "plt.plot(cores,custom_stats[:,0],color='b')\n",
    "plt.plot(cores,native_stats[:,0],color='r')\n",
    "plt.ylim(0,0.025)\n",
    "plt.errorbar(cores,custom_stats[:,0],yerr=custom_stats[:,1],fmt='o',color='blue',capsize=8)\n",
    "plt.errorbar(cores,native_stats[:,0],yerr=custom_stats[:,1],fmt='o',color='red',capsize=8)"
   ]
  },
  {
   "cell_type": "markdown",
   "id": "db104230-68e6-4ed6-a5e1-d78c5b0eb40d",
   "metadata": {},
   "source": [
    "For a small number of cores, the two computational times are almost the same and also the std is comparable. Moving up, the custom algorithm perform worse than the original algorithm, even if, the difference is not enormous. With a bigger number of processes, we can observe that the original broadcast has almost a constant execution time.\n",
    "Another important fact is the entity of the fluctuations. As one can observe, the variability of the execution time is quite strong in both of the algorithm and there is always an important superposition of the two intervals. In all the case except for the last one, there is also that the mean point of the other algorithm stays inside the interval associated to the other one."
   ]
  },
  {
   "cell_type": "markdown",
   "id": "d81acf9c-f8b7-40bf-9ffb-64636b6c083d",
   "metadata": {},
   "source": [
    "### DIFFERENT NODES TIMES"
   ]
  },
  {
   "cell_type": "markdown",
   "id": "e8d915d7-2542-4569-8ca6-cfa3a92ef21e",
   "metadata": {},
   "source": [
    "Now, let's do the exact same thing when the cores are split between two different nodes. The process is almost the same so I will not put comments inside the code."
   ]
  },
  {
   "cell_type": "code",
   "execution_count": 9,
   "id": "71308e7e-bfb4-4c51-8153-e0bd871c7327",
   "metadata": {},
   "outputs": [],
   "source": [
    "customs_names = [\n",
    "    \"diffnode_times/bcustom_times_4.txt\",\n",
    "    \"diffnode_times/bcustom_times_8.txt\",\n",
    "    \"diffnode_times/bcustom_times_16.txt\",\n",
    "    \"diffnode_times/bcustom_times_32.txt\",\n",
    "    \"diffnode_times/bcustom_times_64.txt\"\n",
    "]\n",
    "\n",
    "native_names = [\n",
    "    \"diffnode_times/bnative_times_4.txt\",\n",
    "    \"diffnode_times/bnative_times_8.txt\",\n",
    "    \"diffnode_times/bnative_times_16.txt\",\n",
    "    \"diffnode_times/bnative_times_32.txt\",\n",
    "    \"diffnode_times/bnative_times_64.txt\"\n",
    "]"
   ]
  },
  {
   "cell_type": "code",
   "execution_count": 10,
   "id": "94d61f3d-1b97-416a-95e7-fe5c75bb2a00",
   "metadata": {},
   "outputs": [],
   "source": [
    "custom_stats = np.zeros((len(customs_names),2),dtype=float)\n",
    "\n",
    "for i in range(len(custom_stats)):\n",
    "    file = pd.read_table(customs_names[i],delimiter=\" \",header=None)\n",
    "    file = file.to_numpy()[:,0]\n",
    "    \n",
    "    custom_stats[i,0]=np.mean(file)\n",
    "    custom_stats[i,1]=np.std(file)"
   ]
  },
  {
   "cell_type": "code",
   "execution_count": 11,
   "id": "ad1de659-524e-40ec-857c-f8325521276d",
   "metadata": {},
   "outputs": [
    {
     "name": "stdout",
     "output_type": "stream",
     "text": [
      "[[0.00772684 0.00611083]\n",
      " [0.01175151 0.008321  ]\n",
      " [0.0163661  0.00680017]\n",
      " [0.02252312 0.01257868]\n",
      " [0.01631687 0.01038022]]\n"
     ]
    }
   ],
   "source": [
    "print(custom_stats)"
   ]
  },
  {
   "cell_type": "markdown",
   "id": "29e9d38a-0dd9-4b74-9605-ba7605193bdb",
   "metadata": {},
   "source": [
    "As one can observe, the mean values are greater than before, even if, not so different."
   ]
  },
  {
   "cell_type": "code",
   "execution_count": 12,
   "id": "eae67fe5-d042-4e18-b557-0ed5a71f3aa4",
   "metadata": {},
   "outputs": [],
   "source": [
    "native_stats = np.zeros((len(native_names),2),dtype=float)\n",
    "\n",
    "for i in range(len(native_stats)):\n",
    "    file = pd.read_table(native_names[i],delimiter=\" \",header=None)\n",
    "    file = file.to_numpy()[:,0]\n",
    "    \n",
    "    native_stats[i,0]=np.mean(file)\n",
    "    native_stats[i,1]=np.std(file)"
   ]
  },
  {
   "cell_type": "code",
   "execution_count": 13,
   "id": "164e07e1-a173-4a9f-b17d-5fa586075abc",
   "metadata": {},
   "outputs": [
    {
     "name": "stdout",
     "output_type": "stream",
     "text": [
      "[[0.0066918  0.00607828]\n",
      " [0.0090816  0.00750992]\n",
      " [0.01133511 0.00768043]\n",
      " [0.01970844 0.01455502]\n",
      " [0.00448719 0.0067398 ]]\n"
     ]
    }
   ],
   "source": [
    "print(native_stats)"
   ]
  },
  {
   "cell_type": "markdown",
   "id": "b6273196-d74b-4997-aa10-e0c845cdd628",
   "metadata": {},
   "source": [
    "A similar behaviour can be observed here"
   ]
  },
  {
   "cell_type": "code",
   "execution_count": 14,
   "id": "a066cab6-f217-4ba4-991e-184dfab51237",
   "metadata": {},
   "outputs": [
    {
     "name": "stdout",
     "output_type": "stream",
     "text": [
      "[ 4  8 16 32 64]\n"
     ]
    }
   ],
   "source": [
    "cores = np.array([4,8,16,32,64],dtype=int)\n",
    "print(cores)"
   ]
  },
  {
   "cell_type": "code",
   "execution_count": 15,
   "id": "c308f3a5-ec99-4e57-850f-da6d6923273c",
   "metadata": {},
   "outputs": [
    {
     "data": {
      "text/plain": [
       "<ErrorbarContainer object of 3 artists>"
      ]
     },
     "execution_count": 15,
     "metadata": {},
     "output_type": "execute_result"
    },
    {
     "data": {
      "image/png": "[encoded data removed]",
      "text/plain": [
       "<Figure size 720x504 with 1 Axes>"
      ]
     },
     "metadata": {
      "needs_background": "light"
     },
     "output_type": "display_data"
    }
   ],
   "source": [
    "plt.figure(figsize=(10,7))\n",
    "plt.title(\"Plots with errors for cores on 2 nodes\")\n",
    "plt.xlabel(\"nr. of cores\")\n",
    "plt.ylabel(\"exec. time [s]\")\n",
    "plt.plot(cores,custom_stats[:,0],color='b')\n",
    "plt.plot(cores,native_stats[:,0],color='r')\n",
    "plt.ylim(0,0.025)\n",
    "plt.errorbar(cores,custom_stats[:,0],yerr=custom_stats[:,1],fmt='o',color='blue',capsize=8)\n",
    "plt.errorbar(cores,native_stats[:,0],yerr=custom_stats[:,1],fmt='o',color='red',capsize=8)"
   ]
  },
  {
   "cell_type": "markdown",
   "id": "5ff0a84f-b868-4558-b01d-34a1cb1109ac",
   "metadata": {},
   "source": [
    "Looking to this plot, the behaviours of both the algorithms are far different. The original algorithm now presents a growing trend in the computation time for a growing number of cores. The distances between the two are very narrow and the intervals present an almost complete superposition. The last point for both of the algorithms presents a strange behaviour. As we can see, the computation time drops to lower value especially for the original algorithm. We can try to formulate some possible explantions:\n",
    "\n",
    "- The first explanation, probably too simple, is that we have produced an insanely particular set of tests that give us as image an unrealistic behaviour. In other words, considering a bigger number of tests this anomaly should disappear.\n",
    "- A second explanation can be formulated looking especially to the original broadcast regime. Before trying to explain this event, I would like to bring to the attention the fact that I don't know how the different cores are assigned to the IDs and if there is some kind of priorities but I can imagine for a second that all the ID are assigned first on the cores in a node A and then to the cores in the node B and not in a casual order. If this situation occures, I will have at first a message passing between the cores on node A and then I will have the message passing between some \"link\" cores from A to B. If the mass of the core in each node is sufficiently high, the contribution given from the message passing from node A to B will become less and less relevant in comparison with the execution time part given by the \"volume\" cores of each node. Now, if is present some kind of priority in the ID assignation or, in some way, is not completly and authentically casual, this observation can be in some degree generalized explaining in such way the result."
   ]
  }
 ],
 "metadata": {
  "kernelspec": {
   "display_name": "Python 3 (ipykernel)",
   "language": "python",
   "name": "python3"
  },
  "language_info": {
   "codemirror_mode": {
    "name": "ipython",
    "version": 3
   },
   "file_extension": ".py",
   "mimetype": "text/x-python",
   "name": "python",
   "nbconvert_exporter": "python",
   "pygments_lexer": "ipython3",
   "version": "3.9.7"
  }
 },
 "nbformat": 4,
 "nbformat_minor": 5
}
