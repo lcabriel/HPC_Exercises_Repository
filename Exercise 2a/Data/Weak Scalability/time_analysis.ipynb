{
 "cells": [
  {
   "cell_type": "markdown",
   "id": "60210aac",
   "metadata": {},
   "source": [
    "## Times Analysis\n",
    "\n",
    "In this notebook we will elaborate and confront the times data obtained from testing our custom algorithm for the broadcast with the original algorithm used by OpenMPI. This data are obtained to confront the weak scalability of the two algorithms for a number of processes that goes from 4 to 32. Therefore we have fixed the amount of integers to pass for each process of the problem: we will pass between the processes an array of size processes$\\times$4. We will consider the times also for the processes on the same node or split between two nodes. \n",
    "\n",
    "N.B. Due to some problems during the production this data, differently from the one of the Strong Scalability, are made on THIN nodes instead of EYPC."
   ]
  },
  {
   "cell_type": "code",
   "execution_count": 1,
   "id": "335b574c-9043-4af9-bf0b-50189369a992",
   "metadata": {},
   "outputs": [],
   "source": [
    "#We will use Numpy to handle the arrays of data, pandas to extract the data from the files and matplotlib to plot the results.\n",
    "import numpy as np\n",
    "import pandas as pd\n",
    "import matplotlib.pyplot as plt"
   ]
  },
  {
   "cell_type": "code",
   "execution_count": 2,
   "id": "cd47ebe1-8ba5-40ac-b972-8d3b68ca90d9",
   "metadata": {},
   "outputs": [],
   "source": [
    "#First I've already set the name. If you exec this notebook in the repo this should work.\n",
    "customs_names = [ #File names of the times for the custom algorithm\n",
    "    \"samenode_times/bcustom_times_4.txt\",\n",
    "    \"samenode_times/bcustom_times_8.txt\",\n",
    "    \"samenode_times/bcustom_times_16.txt\",\n",
    "    \"samenode_times/bcustom_times_32.txt\",\n",
    "]\n",
    "\n",
    "native_names = [ #File names of the times for the original algorithm\n",
    "    \"samenode_times/bnative_times_4.txt\",\n",
    "    \"samenode_times/bnative_times_8.txt\",\n",
    "    \"samenode_times/bnative_times_16.txt\",\n",
    "    \"samenode_times/bnative_times_32.txt\",\n",
    "]"
   ]
  },
  {
   "cell_type": "markdown",
   "id": "a169ccee-884b-4193-8815-610ef3412321",
   "metadata": {},
   "source": [
    "We have for each file a total of 200 tests so we want to find the mean computational time and the std for each one of the files. Let's start with the ones of the custom algorithm"
   ]
  },
  {
   "cell_type": "code",
   "execution_count": 3,
   "id": "a0db8fe6-7325-46e0-9cf8-73178082c638",
   "metadata": {},
   "outputs": [],
   "source": [
    "custom_stats = np.zeros((len(customs_names),2),dtype=float) #array for the means and stds of each file\n",
    "\n",
    "for i in range(len(custom_stats)):\n",
    "    #Import the associated data and compute\n",
    "    file = pd.read_table(customs_names[i],delimiter=\" \",header=None)\n",
    "    file = file.to_numpy()[:,0]\n",
    "    \n",
    "    custom_stats[i,0]=np.mean(file)\n",
    "    custom_stats[i,1]=np.std(file)"
   ]
  },
  {
   "cell_type": "code",
   "execution_count": 4,
   "id": "36d265d6-aa73-430e-9379-2408a7d76528",
   "metadata": {},
   "outputs": [
    {
     "name": "stdout",
     "output_type": "stream",
     "text": [
      "[[4.33800000e-03 8.12909950e-03]\n",
      " [1.63400250e-02 2.30495667e-02]\n",
      " [9.16280000e-04 3.26871988e-03]\n",
      " [1.83015000e-04 5.29841936e-05]]\n"
     ]
    }
   ],
   "source": [
    "print(custom_stats)"
   ]
  },
  {
   "cell_type": "markdown",
   "id": "1137f2e1-7463-4021-a19e-49cb82958841",
   "metadata": {},
   "source": [
    "We can observe already from this that we have a spike for 8 processes in both cases. Let's do the same for the original algorithm"
   ]
  },
  {
   "cell_type": "code",
   "execution_count": 5,
   "id": "cec1bf02-e506-48ce-8c35-896623736053",
   "metadata": {},
   "outputs": [],
   "source": [
    "native_stats = np.zeros((len(native_names),2),dtype=float)\n",
    "\n",
    "for i in range(len(native_stats)):\n",
    "    file = pd.read_table(native_names[i],delimiter=\" \",header=None)\n",
    "    file = file.to_numpy()[:,0]\n",
    "    \n",
    "    native_stats[i,0]=np.mean(file)\n",
    "    native_stats[i,1]=np.std(file)"
   ]
  },
  {
   "cell_type": "code",
   "execution_count": 6,
   "id": "61e6a09f-dc1a-4d6e-80fb-fb5665340399",
   "metadata": {},
   "outputs": [
    {
     "name": "stdout",
     "output_type": "stream",
     "text": [
      "[[5.90177500e-03 1.08533209e-02]\n",
      " [4.06446000e-03 1.00444238e-02]\n",
      " [2.68495000e-04 1.13160138e-03]\n",
      " [2.03655000e-04 8.35755106e-05]]\n"
     ]
    }
   ],
   "source": [
    "print(native_stats)"
   ]
  },
  {
   "cell_type": "markdown",
   "id": "fb479ba5-57db-4792-845a-b5284a60c466",
   "metadata": {},
   "source": [
    "Looking to the mean we can already observe that the mean value is lower than the mean value for the custom algorithm but comparable. We can however observe that for the native the values are strictly decreasing. The std seems comparable"
   ]
  },
  {
   "cell_type": "code",
   "execution_count": 7,
   "id": "c15e2c9b-50e4-41bb-b5cb-e754148487f3",
   "metadata": {},
   "outputs": [
    {
     "name": "stdout",
     "output_type": "stream",
     "text": [
      "[ 4  8 16 32]\n"
     ]
    }
   ],
   "source": [
    "#Prepare the \"x\" for the plot a.k.a. the number of cores\n",
    "cores = np.array([4,8,16,32],dtype=int)\n",
    "print(cores)"
   ]
  },
  {
   "cell_type": "code",
   "execution_count": 8,
   "id": "ba464ab9-23c4-4477-b6cd-f06015dde705",
   "metadata": {},
   "outputs": [
    {
     "data": {
      "text/plain": [
       "<ErrorbarContainer object of 3 artists>"
      ]
     },
     "execution_count": 8,
     "metadata": {},
     "output_type": "execute_result"
    },
    {
     "data": {
      "image/png": "[encoded data removed]",
      "text/plain": [
       "<Figure size 720x504 with 1 Axes>"
      ]
     },
     "metadata": {
      "needs_background": "light"
     },
     "output_type": "display_data"
    }
   ],
   "source": [
    "#And now let's plot\n",
    "plt.figure(figsize=(10,7))\n",
    "plt.title(\"Plots with errors for cores on the same node\")\n",
    "plt.xlabel(\"nr. of cores\")\n",
    "plt.ylabel(\"exec. time [s]\")\n",
    "plt.plot(cores,custom_stats[:,0],color='b')\n",
    "plt.plot(cores,native_stats[:,0],color='r')\n",
    "plt.ylim(0,0.03)\n",
    "plt.errorbar(cores,custom_stats[:,0],yerr=custom_stats[:,1],fmt='o',color='blue',capsize=8)\n",
    "plt.errorbar(cores,native_stats[:,0],yerr=native_stats[:,1],fmt='o',color='red',capsize=8)"
   ]
  },
  {
   "cell_type": "markdown",
   "id": "06a2df4c-2279-4000-99ea-f59c454db17e",
   "metadata": {},
   "source": [
    "As we can observe for 4 cores and for a lot of cores the two computational times are almost the same and also the std is comparable. However for 8 cores the custom algorithms seems to perform worst. Especially for this situation, it is important to consider the fluctuations in fact, as we can observe, the variability of the execution time is quite strong in both of the algorithms and we have always an importartant superposition of the two intervals. In all the cases we have also that the mean point of the other algorithm stay inside the interval associated to the other one. This flucutuations can tell us that the situation of 8th core can be a simple unfortunate case and the two values could be nearer than in this situation.\n",
    "\n",
    "In any way, this plots tells us that the weak scalability for both the plot is quite good."
   ]
  },
  {
   "cell_type": "markdown",
   "id": "630e3d0e-92df-4c8c-81c7-724bcefe9159",
   "metadata": {},
   "source": [
    "### DIFFERENT NODES TIMES"
   ]
  },
  {
   "cell_type": "markdown",
   "id": "18ff4433-fb07-4fb2-80a3-1bd76fde797c",
   "metadata": {},
   "source": [
    "Now let's do the exact same thing when the cores are split between two different nodes. The process is almost the same so I will not put comment inside the code."
   ]
  },
  {
   "cell_type": "code",
   "execution_count": 9,
   "id": "71308e7e-bfb4-4c51-8153-e0bd871c7327",
   "metadata": {},
   "outputs": [],
   "source": [
    "customs_names = [\n",
    "    \"diffnode_times/bcustom_times_4.txt\",\n",
    "    \"diffnode_times/bcustom_times_8.txt\",\n",
    "    \"diffnode_times/bcustom_times_16.txt\",\n",
    "    \"diffnode_times/bcustom_times_32.txt\",\n",
    "]\n",
    "\n",
    "native_names = [\n",
    "    \"diffnode_times/bnative_times_4.txt\",\n",
    "    \"diffnode_times/bnative_times_8.txt\",\n",
    "    \"diffnode_times/bnative_times_16.txt\",\n",
    "    \"diffnode_times/bnative_times_32.txt\",\n",
    "]"
   ]
  },
  {
   "cell_type": "code",
   "execution_count": 10,
   "id": "94d61f3d-1b97-416a-95e7-fe5c75bb2a00",
   "metadata": {},
   "outputs": [],
   "source": [
    "custom_stats = np.zeros((len(customs_names),2),dtype=float)\n",
    "\n",
    "for i in range(len(custom_stats)):\n",
    "    file = pd.read_table(customs_names[i],delimiter=\" \",header=None)\n",
    "    file = file.to_numpy()[:,0]\n",
    "    \n",
    "    custom_stats[i,0]=np.mean(file)\n",
    "    custom_stats[i,1]=np.std(file)"
   ]
  },
  {
   "cell_type": "code",
   "execution_count": 11,
   "id": "ad1de659-524e-40ec-857c-f8325521276d",
   "metadata": {},
   "outputs": [
    {
     "name": "stdout",
     "output_type": "stream",
     "text": [
      "[[0.00828332 0.00520367]\n",
      " [0.01410001 0.00944514]\n",
      " [0.054165   0.04154608]\n",
      " [0.00717956 0.00391684]]\n"
     ]
    }
   ],
   "source": [
    "print(custom_stats)"
   ]
  },
  {
   "cell_type": "markdown",
   "id": "35fa0407-8117-4f56-ba43-7bde6117c6c7",
   "metadata": {},
   "source": [
    "As we can observe the mean values are far greater than before!"
   ]
  },
  {
   "cell_type": "code",
   "execution_count": 12,
   "id": "eae67fe5-d042-4e18-b557-0ed5a71f3aa4",
   "metadata": {},
   "outputs": [],
   "source": [
    "native_stats = np.zeros((len(native_names),2),dtype=float)\n",
    "\n",
    "for i in range(len(native_stats)):\n",
    "    file = pd.read_table(native_names[i],delimiter=\" \",header=None)\n",
    "    file = file.to_numpy()[:,0]\n",
    "    \n",
    "    native_stats[i,0]=np.mean(file)\n",
    "    native_stats[i,1]=np.std(file)"
   ]
  },
  {
   "cell_type": "code",
   "execution_count": 13,
   "id": "164e07e1-a173-4a9f-b17d-5fa586075abc",
   "metadata": {},
   "outputs": [
    {
     "name": "stdout",
     "output_type": "stream",
     "text": [
      "[[0.01077521 0.0246102 ]\n",
      " [0.0139191  0.02120689]\n",
      " [0.05386739 0.06703036]\n",
      " [0.01444583 0.00932859]]\n"
     ]
    }
   ],
   "source": [
    "print(native_stats)"
   ]
  },
  {
   "cell_type": "markdown",
   "id": "7c70f572-286d-46c5-83f6-9b240c3fc9c1",
   "metadata": {},
   "source": [
    "A similar behaviour can be observed here"
   ]
  },
  {
   "cell_type": "code",
   "execution_count": 14,
   "id": "a066cab6-f217-4ba4-991e-184dfab51237",
   "metadata": {},
   "outputs": [
    {
     "name": "stdout",
     "output_type": "stream",
     "text": [
      "[ 4  8 16 32]\n"
     ]
    }
   ],
   "source": [
    "cores = np.array([4,8,16,32],dtype=int)\n",
    "print(cores)"
   ]
  },
  {
   "cell_type": "code",
   "execution_count": 15,
   "id": "c308f3a5-ec99-4e57-850f-da6d6923273c",
   "metadata": {},
   "outputs": [
    {
     "data": {
      "text/plain": [
       "<ErrorbarContainer object of 3 artists>"
      ]
     },
     "execution_count": 15,
     "metadata": {},
     "output_type": "execute_result"
    },
    {
     "data": {
      "image/png": "[encoded data removed]",
      "text/plain": [
       "<Figure size 720x504 with 1 Axes>"
      ]
     },
     "metadata": {
      "needs_background": "light"
     },
     "output_type": "display_data"
    }
   ],
   "source": [
    "plt.figure(figsize=(10,7))\n",
    "plt.title(\"Plots with errors for cores on 2 nodes\")\n",
    "plt.xlabel(\"nr. of cores\")\n",
    "plt.ylabel(\"exec. time [s]\")\n",
    "plt.plot(cores,custom_stats[:,0],color='b')\n",
    "plt.plot(cores,native_stats[:,0],color='r')\n",
    "plt.ylim(0,0.08)\n",
    "plt.errorbar(cores,custom_stats[:,0],yerr=custom_stats[:,1],fmt='o',color='blue',capsize=8)\n",
    "plt.errorbar(cores,native_stats[:,0],yerr=native_stats[:,1],fmt='o',color='red',capsize=8)"
   ]
  },
  {
   "cell_type": "markdown",
   "id": "23e38445-4334-4ac3-9355-ba549d5b3234",
   "metadata": {},
   "source": [
    "Looking to this plot, we can observe that the behaviours of both the algorithms are far different. Both the original algorithm and the custom now present a growing trend for the computation time for a growing number of cores. The distances between the two are very narrow and the intervals present an almost complete superposition. The last point for both of the algorithms presents a strange behaviour. As we can see the computation time drops to lower value especially for the original algorithm. We can try to formulate some possible explantions:\n",
    "\n",
    "- The first explanation, probably too simple, is that we have produce an insanely particular set of tests that give us as image an unrealistic behaviour. In other words, considering a bigger number of tests this anomaly should disappear.\n",
    "- A second explanation can be formulated looking especially to the original broadcast regime. Before trying to explain this event I would like to bring to the attention the fact that I don't know how the different cores are assigned to the IDs and if there is some kind of priorities but I we can imagine for a second that all the ID are assigned first on the cores in a node A and then to the cores in the node B and not in a casual order. If this situation occure we will have at first a message passing between the cores on node A and then we will have the message passing between some \"link\" cores from A to B. If the mass of the core in each node is sufficiently high the contribution given from the message passing from node A to B will become less and less relevant in comparison with the execution time part given by the \"volume\" cores of each node. Now if is present some kind of priority in the ID assignation or, in some way, is not completly and authentically casual, this observation can be in some degree generalized explaining in such way the result."
   ]
  },
  {
   "cell_type": "code",
   "execution_count": null,
   "id": "5c045b67-c85e-4f6b-ad3a-ac7ca1262ba9",
   "metadata": {},
   "outputs": [],
   "source": []
  }
 ],
 "metadata": {
  "kernelspec": {
   "display_name": "Python 3 (ipykernel)",
   "language": "python",
   "name": "python3"
  },
  "language_info": {
   "codemirror_mode": {
    "name": "ipython",
    "version": 3
   },
   "file_extension": ".py",
   "mimetype": "text/x-python",
   "name": "python",
   "nbconvert_exporter": "python",
   "pygments_lexer": "ipython3",
   "version": "3.9.7"
  }
 },
 "nbformat": 4,
 "nbformat_minor": 5
}
